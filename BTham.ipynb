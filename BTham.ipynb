{
  "nbformat": 4,
  "nbformat_minor": 0,
  "metadata": {
    "colab": {
      "name": "BTham.ipynb",
      "provenance": [],
      "authorship_tag": "ABX9TyOW5cQ+dbCut/IiWBtoVKVz",
      "include_colab_link": true
    },
    "kernelspec": {
      "name": "python3",
      "display_name": "Python 3"
    },
    "language_info": {
      "name": "python"
    }
  },
  "cells": [
    {
      "cell_type": "markdown",
      "metadata": {
        "id": "view-in-github",
        "colab_type": "text"
      },
      "source": [
        "<a href=\"https://colab.research.google.com/github/Ldkhanhduy/baitapham/blob/main/BTham.ipynb\" target=\"_parent\"><img src=\"https://colab.research.google.com/assets/colab-badge.svg\" alt=\"Open In Colab\"/></a>"
      ]
    },
    {
      "cell_type": "markdown",
      "metadata": {
        "id": "OH2StxRaRP86"
      },
      "source": [
        "Bài 1: Hãy xây dựng một hàm thực hiện các yêu cầu sau:\n",
        "- Xuất ra màn hình câu thông báo: “Lập trình Java 2021”\n",
        "- Hàm không có giá trị trả về"
      ]
    },
    {
      "cell_type": "code",
      "metadata": {
        "id": "zn2PYdM4RX_y"
      },
      "source": [
        "def in_ra_man_hinh(message):\n",
        "  print(message)"
      ],
      "execution_count": 13,
      "outputs": []
    },
    {
      "cell_type": "code",
      "metadata": {
        "colab": {
          "base_uri": "https://localhost:8080/"
        },
        "id": "ag11m6juRkqs",
        "outputId": "c27beae4-0755-43aa-ff45-567f706785a4"
      },
      "source": [
        "in_ra_man_hinh(\"Lập trình Python\")"
      ],
      "execution_count": 14,
      "outputs": [
        {
          "output_type": "stream",
          "name": "stdout",
          "text": [
            "Lập trình Python\n"
          ]
        }
      ]
    },
    {
      "cell_type": "markdown",
      "metadata": {
        "id": "RufqAITyRzSE"
      },
      "source": [
        "Bài 2: Hãy xây dựng một hàm thực hiện các yêu cầu sau:\n",
        "- Nhận một tham số đầu vào là một chuỗi ký tự (kiểu String)\n",
        "- Xuất ra màn hình nội dung chuỗi được truyền vào từ tham số\n",
        "- Hàm không có giá trị trả về\n",
        "Từ chương trình chính gọi thực hiện hàm này."
      ]
    },
    {
      "cell_type": "code",
      "metadata": {
        "id": "MWBn2VfaR1h8"
      },
      "source": [
        "def bai2(chuoi, n):\n",
        "  for i in range(0, n):\n",
        "    print(chuoi)"
      ],
      "execution_count": 45,
      "outputs": []
    },
    {
      "cell_type": "markdown",
      "metadata": {
        "id": "WoDksRaDSWq6"
      },
      "source": [
        "Bài 3: Hãy viết chương trình thực hiện các yêu cầu sau:\n",
        "- Nhập một số nguyên dương n từ bàn phím (kiểm tra nếu không đạt yêu cầu thì bắt nhập\n",
        "lại)\n",
        "- Nhập một thông điệp từ bàn phím\n",
        "- Gọi thực hiện hàm ở Bài 2 n lần với thông điệp được truyền làm tham số đầu vào của hàm."
      ]
    },
    {
      "cell_type": "code",
      "metadata": {
        "colab": {
          "base_uri": "https://localhost:8080/"
        },
        "id": "WImfZJQOSZgG",
        "outputId": "bcc588c0-bc44-49b0-af4d-e13bd96a1137"
      },
      "source": [
        "n=int(input(\"nhap so lan lap lai: \"))\n",
        "while n<0:\n",
        "  n=int(input(\"chi nhap so nguyen duong: \"))\n",
        "else:\n",
        "  b=input()\n",
        "  bai2(b, n)"
      ],
      "execution_count": 46,
      "outputs": [
        {
          "output_type": "stream",
          "name": "stdout",
          "text": [
            "nhap so lan lap lai: -4\n",
            "chi nhap so nguyen duong: 3\n",
            "Duy\n",
            "Duy\n",
            "Duy\n",
            "Duy\n"
          ]
        }
      ]
    },
    {
      "cell_type": "markdown",
      "metadata": {
        "id": "7SRAlX_bS2Ex"
      },
      "source": [
        "Bài 4: Hãy viết chương trình thực hiện các yêu cầu sau:\n",
        "- Xây dựng hàm giải phương trình bậc 1 (ax + b = 0), với hệ số a & b được truyền vào qua\n",
        "thông số của hàm.\n",
        "- Chương trình chính nhận các thông số a, b từ bàn phím\n",
        "- Chương trình chính gọi hàm giải phương trình bậc 1 nêu trên"
      ]
    },
    {
      "cell_type": "code",
      "metadata": {
        "id": "HsSPp1A9S2qO"
      },
      "source": [
        "def PTB1(a, b):\n",
        "  if (b==0):\n",
        "    if (a==0):\n",
        "      print(\"vo so nghiem\")\n",
        "    else:\n",
        "      print(\"vo nghiem\")\n",
        "  else:\n",
        "    print(\"nghiem cua phuong trinh la:\", (-b/a))"
      ],
      "execution_count": 15,
      "outputs": []
    },
    {
      "cell_type": "code",
      "metadata": {
        "colab": {
          "base_uri": "https://localhost:8080/"
        },
        "id": "l1pmj873TV6y",
        "outputId": "c13e3b75-c748-4271-c031-b057ea3983f0"
      },
      "source": [
        "PTB1(2, -26)"
      ],
      "execution_count": 18,
      "outputs": [
        {
          "output_type": "stream",
          "name": "stdout",
          "text": [
            "nghiem cua phuong trinh la: 13.0\n"
          ]
        }
      ]
    },
    {
      "cell_type": "markdown",
      "metadata": {
        "id": "ZPFJi2zuThHc"
      },
      "source": [
        "Bài 5: Hãy viết chương trình thực hiện các yêu cầu sau:\n",
        "- Xây dựng hàm giải phương trình bậc (ax2 + bx + c = 0), với hệ số a & b & c được truyền\n",
        "vào qua thông số của hàm.\n",
        "- Chương trình chính nhận các thông số a, b & c từ bàn phím\n",
        "- Chương trình chính gọi hàm giải phương trình bậc 2 nêu trên"
      ]
    },
    {
      "cell_type": "code",
      "metadata": {
        "id": "TFEOZsLQTjnr"
      },
      "source": [
        "def PTB2(a, b, c):\n",
        "  if a==0:\n",
        "    if (c==0):\n",
        "      if (b==0):\n",
        "        print(\"vo so nghiem\")\n",
        "      else:\n",
        "        print(\"vo nghiem\")\n",
        "    else:\n",
        "      print(\"nghiem cua phuong trinh la:\", (-c/b))\n",
        "  else:\n",
        "    if ((b**2-4*a*c)<0):\n",
        "      print(\"vo nghiem\")\n",
        "    if ((b**2-4*a*c)==0):\n",
        "      print(\"phuong trinh co mot nghiem kep la:\", ((-b)/(2*a)))\n",
        "    if ((b**2-4*a*c)>0):\n",
        "      print(\"phuong trinh co hai nghiem la:\", (-b+(b**2-4*a*c)**(1/2))/(2*a), \"va\", (-b-(b**2-4*a*c)**(1/2)/(2*a)))\n"
      ],
      "execution_count": 47,
      "outputs": []
    },
    {
      "cell_type": "code",
      "metadata": {
        "colab": {
          "base_uri": "https://localhost:8080/"
        },
        "id": "8Difs6SOU20x",
        "outputId": "13f1ab97-c385-4971-b521-e026cb5c5d37"
      },
      "source": [
        "PTB2(0, 23, 2)"
      ],
      "execution_count": 48,
      "outputs": [
        {
          "output_type": "stream",
          "name": "stdout",
          "text": [
            "nghiem cua phuong trinh la: -0.08695652173913043\n"
          ]
        }
      ]
    },
    {
      "cell_type": "markdown",
      "metadata": {
        "id": "Q_Tq__7zVDW6"
      },
      "source": [
        "Bài 6: Hãy viết chương trình thực hiện các yêu cầu sau:\n",
        "\n",
        "- Cho người dùng lựa chọn giải phương trình bậc 1 hay bậc 2 bằng cách nhập số (1 hay 2)\n",
        "từ bàn phím\n",
        "- Nếu người dùng chọn giải phương trình bậc 1, thì thực hiện các bước như Bài 4\n",
        "- Nếu người dùng chọn giải phương trình bậc 2, thì thực hiện các bước như Bài 5"
      ]
    },
    {
      "cell_type": "code",
      "metadata": {
        "colab": {
          "base_uri": "https://localhost:8080/"
        },
        "id": "EZEtBIEZVD0S",
        "outputId": "af257cb2-7d11-402f-ac49-098aece5abcf"
      },
      "source": [
        "bai6=int(input(\"chon giai phuong tirnh bac 1 hoac 2: \"))\n",
        "if bai6==1:\n",
        "  a6=float(input(\"a= \"))\n",
        "  b6=float(input(\"b= \"))\n",
        "  PTB1(a6, b6)\n",
        "if bai6==2:\n",
        "  a6=float(input(\"a= \"))\n",
        "  b6=float(input(\"b= \"))\n",
        "  c6=float(input(\"c= \"))\n",
        "  PTB2(a6, b6, c6)"
      ],
      "execution_count": 29,
      "outputs": [
        {
          "output_type": "stream",
          "name": "stdout",
          "text": [
            "chon giai phuong tirnh bac 1 hoac 2: 2\n",
            "a= 1\n",
            "b= 4\n",
            "c= 2\n",
            "phuong trinh co hai nghiem la: -0.5857864376269049 va -5.414213562373095\n"
          ]
        }
      ]
    },
    {
      "cell_type": "markdown",
      "metadata": {
        "id": "ES1ucF9dW7wF"
      },
      "source": [
        "Bài 7: Viết chương trình thực hiện các yêu cầu sau:\n",
        "- Thực hiện yêu cầu như bài 6\n",
        "- Sau khi thực hiện xong cho người dùng lựa chọn tiếp tục thực hiện lại hay kết thúc chương\n",
        "trình"
      ]
    },
    {
      "cell_type": "code",
      "metadata": {
        "colab": {
          "base_uri": "https://localhost:8080/"
        },
        "id": "cmsO_JDwW8OS",
        "outputId": "8d938df2-71a0-49eb-e8ce-6b850829a3c1"
      },
      "source": [
        "x=input(\"muon tiep tuc? \")\n",
        "while x==\"tiep\":\n",
        "  bai6=int(input(\"chon giai phuong tirnh bac 1 hoac 2: \"))\n",
        "  if bai6==1:\n",
        "    a6=float(input(\"a= \"))\n",
        "    b6=float(input(\"b= \"))\n",
        "    PTB1(a6, b6)\n",
        "  if bai6==2:\n",
        "    a6=float(input(\"a= \"))\n",
        "    b6=float(input(\"b= \"))\n",
        "    c6=float(input(\"c= \"))\n",
        "    PTB2(a6, b6, c6)\n",
        "  x=input(\"co tiep tuc hay khong? \")\n",
        "else:\n",
        "  print(\"ok\")"
      ],
      "execution_count": 33,
      "outputs": [
        {
          "output_type": "stream",
          "name": "stdout",
          "text": [
            "muon tiep tuc? tiep\n",
            "chon giai phuong tirnh bac 1 hoac 2: 2\n",
            "a= 2\n",
            "b= 6\n",
            "c= 3\n",
            "phuong trinh co hai nghiem la: -0.6339745962155614 va -6.866025403784438\n",
            "co tiep tuc hay khong? tiep\n",
            "chon giai phuong tirnh bac 1 hoac 2: 1\n",
            "a= 3\n",
            "b= 6\n",
            "nghiem cua phuong trinh la: -2.0\n",
            "co tiep tuc hay khong? khong\n",
            "ok\n"
          ]
        }
      ]
    }
  ]
}